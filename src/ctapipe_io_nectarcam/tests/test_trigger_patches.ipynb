{
 "cells": [
  {
   "cell_type": "code",
   "execution_count": 47,
   "id": "07c65051-db6a-4449-bc4e-0001941ceda2",
   "metadata": {
    "execution": {
     "iopub.execute_input": "2023-06-21T08:07:42.698078Z",
     "iopub.status.busy": "2023-06-21T08:07:42.696905Z",
     "iopub.status.idle": "2023-06-21T08:07:42.724577Z",
     "shell.execute_reply": "2023-06-21T08:07:42.723495Z",
     "shell.execute_reply.started": "2023-06-21T08:07:42.697996Z"
    }
   },
   "outputs": [],
   "source": [
    "def make_new_cameras(camera_type=0,display=False):\n",
    "    import numpy as np\n",
    "    from matplotlib import pyplot as plt\n",
    "    from astropy import units as u\n",
    "    \n",
    "    #Make a camera with modified Descartes spacing\n",
    "    radius = 0.5\n",
    "    x_space = radius\n",
    "    y_space = x_space*np.sin(60*u.deg)\n",
    "    \n",
    "    layout = [ [-1,0],[-1,1],\n",
    "           [0,-1],[0,0],[0,1],\n",
    "              [1,0],[1,1]]\n",
    "    \n",
    "    \n",
    "    module = []\n",
    "    for row in layout:\n",
    "        if row[0]%2 == 0:\n",
    "            module.append([row[1]*x_space,row[0]*y_space])\n",
    "        else:\n",
    "            module.append([row[1]*x_space-x_space/2,row[0]*y_space])\n",
    "    module = np.array(module)\n",
    "    \n",
    "    if display:\n",
    "        plt.figure(figsize=(5,5))\n",
    "        plt.xlim((-4,6))\n",
    "        plt.ylim((-4,6))\n",
    "        plt.grid()\n",
    "    \n",
    "    pixels0 = np.concatenate((module,\n",
    "                             module+np.array([x_space*5/2,y_space]),\n",
    "                             module+np.array([x_space/2,3*y_space]),\n",
    "                             module+np.array([-x_space*2,y_space*2]),\n",
    "                             module+np.array([-x_space*5/2,-y_space]),\n",
    "                             module+np.array([-x_space/2,-3*y_space]),\n",
    "                             module+np.array([x_space*2,-2*y_space]),\n",
    "                            ))\n",
    "    pixels = pixels0\n",
    "    \n",
    "    if display:\n",
    "        plt.plot(pixels[:,0],pixels[:,1],'o')\n",
    "\n",
    "    if camera_type==0:\n",
    "        if display:\n",
    "            plt.show()\n",
    "        return pixels,radius,\"Good Example, 7 modules\"\n",
    "\n",
    "    pixels1 = np.concatenate((module+np.array([x_space*9/2,-y_space*2/2]),\n",
    "                             module+np.array([x_space*10/2,y_space*4/2]),\n",
    "                             module+np.array([x_space*6/2,y_space*8/2]),                         \n",
    "                             ))\n",
    "    \n",
    "    pixels = pixels1\n",
    "\n",
    "    if display:\n",
    "        plt.plot(pixels[:,0],pixels[:,1],'x')\n",
    "    \n",
    "    pixels = np.concatenate((pixels0,pixels1))\n",
    "    \n",
    "    #plt.plot(module.T,'x')\n",
    "\n",
    "    if camera_type==1:\n",
    "        if display:\n",
    "            plt.show()\n",
    "        return pixels,radius,\"Good Example, 10 modules\"\n",
    "\n",
    "    ten_modules = pixels\n",
    "    # Remove 3 pixels, should raise ValueError for not multiple of 7\n",
    "    pixels = pixels[:-3, :]\n",
    "    if camera_type==2:\n",
    "        if display:\n",
    "            plt.show()\n",
    "        return pixels,radius,\"Bad Example, 10 modules - 3 pixels\"\n",
    "\n",
    "    pixels = ten_modules\n",
    "    pix_mid_module = [3, 10, 17, 24, 31, 38, 45, 52, 59, 66]\n",
    "    pixels = np.delete(pixels, pix_mid_module[:7], axis=0)\n",
    "    if camera_type==3:\n",
    "        if display:\n",
    "            plt.show()\n",
    "        return pixels,radius,\"Bad Example, 10 modules - missing 7 central pixels\"\n",
    "    \n",
    "    pixels = ten_modules\n",
    "    edge_pix = [50, 53, 57, 60, 62, 68, 69]\n",
    "    pixels = np.delete(pixels, edge_pix, axis=0)\n",
    "    if camera_type==4:\n",
    "        if display:\n",
    "            plt.show()\n",
    "        return pixels,radius,\"Vicious Example, 10 modules - missing 7 edge pixels\"\n",
    "    \n",
    "    # Now do the case for other types\n",
    "    return pixels,radius,\"Final example camera\"\n"
   ]
  },
  {
   "cell_type": "code",
   "execution_count": 2,
   "id": "225cb189-391b-404b-b83a-1a52aef8151c",
   "metadata": {
    "execution": {
     "iopub.execute_input": "2023-06-21T07:54:45.193071Z",
     "iopub.status.busy": "2023-06-21T07:54:45.192796Z",
     "iopub.status.idle": "2023-06-21T07:54:45.204998Z",
     "shell.execute_reply": "2023-06-21T07:54:45.204045Z",
     "shell.execute_reply.started": "2023-06-21T07:54:45.193045Z"
    }
   },
   "outputs": [],
   "source": [
    "def test_trigger_patches_simple_camera():\n",
    "    import numpy as np\n",
    "    from astropy import units as u\n",
    "    from astropy import table\n",
    "    from ctapipe_io_nectarcam import module_central,nectar_trigger_patches\n",
    "    from ctapipe.instrument.camera.geometry import CameraGeometry\n",
    "    \n",
    "    pixels,radius,camera_name = make_new_cameras(0,False)\n",
    "\n",
    "    n_pix = len(pixels)\n",
    "    pix_x=pixels[:,0]*u.cm\n",
    "    pix_y=pixels[:,1]*u.cm\n",
    "\n",
    "    geom_new = CameraGeometry(camera_name=camera_name,\n",
    "                              pix_x=pix_x,pix_y=pix_y,\n",
    "                              pix_id=table.column.Column(range(n_pix)),\n",
    "                              pix_area=np.pi*(radius*u.cm)**2,\n",
    "                              pix_type=\"hexagon\")\n",
    "    \n",
    "    pix_mid_module = module_central(geom_new)\n",
    "    assert pix_mid_module == [3, 10, 17, 24, 31, 38, 45]\n",
    "\n",
    "    trigger_patches = nectar_trigger_patches(geom_new,\n",
    "                                             pix_mid_module)\n",
    "\n",
    "    assert trigger_patches == [[0, 1, 2, 3, 4, 5, 6, 7, 8, 9, 10, 12, 14, 15, 16, 17, 18, 21, 22, 24, \n",
    "                                25, 27, 29, 31, 32, 33, 34, 37, 38, 39, 40, 41, 42, 44, 45, 47, 48], \n",
    "                               [1, 3, 4, 5, 6, 7, 8, 9, 10, 11, 12, 13, 14, 15, 17, 18, 20, 44, 45, 46, 47, 48], \n",
    "                               [2, 3, 4, 5, 6, 7, 9, 10, 12, 13, 14, 15, 16, 17, 18, 19, 20, 22, 24, 25, 26, 27], \n",
    "                               [0, 2, 3, 5, 6, 14, 15, 16, 17, 19, 21, 22, 23, 24, 25, 26, 27, 30, 31, 32, 33, 34], \n",
    "                               [0, 1, 2, 3, 5, 21, 22, 23, 24, 25, 28, 29, 30, 31, 32, 33, 34, 35, 37, 38, 40, 41], \n",
    "                               [0, 1, 2, 3, 4, 28, 29, 31, 32, 34, 35, 36, 37, 38, 39, 40, 41, 42, 43, 44, 45, 47], \n",
    "                               [0, 1, 3, 4, 6, 7, 8, 9, 10, 11, 36, 38, 39, 40, 41, 42, 43, 44, 45, 46, 47, 48]]\n"
   ]
  },
  {
   "cell_type": "code",
   "execution_count": 3,
   "id": "d499e6f3-3007-40d1-b8a3-558d21ba28cc",
   "metadata": {
    "execution": {
     "iopub.execute_input": "2023-06-21T07:54:45.207339Z",
     "iopub.status.busy": "2023-06-21T07:54:45.206881Z",
     "iopub.status.idle": "2023-06-21T07:54:45.236812Z",
     "shell.execute_reply": "2023-06-21T07:54:45.234758Z",
     "shell.execute_reply.started": "2023-06-21T07:54:45.207307Z"
    }
   },
   "outputs": [],
   "source": [
    "def test_trigger_patches_bigger_camera():\n",
    "    import numpy as np\n",
    "    from astropy import units as u\n",
    "    from astropy import table\n",
    "    from ctapipe_io_nectarcam import module_central,nectar_trigger_patches\n",
    "    from ctapipe.instrument.camera.geometry import CameraGeometry\n",
    "    \n",
    "    pixels,radius,camera_name = make_new_cameras(1,False)\n",
    "\n",
    "    n_pix = len(pixels)\n",
    "    pix_x=pixels[:,0]*u.cm\n",
    "    pix_y=pixels[:,1]*u.cm\n",
    "\n",
    "    geom_new = CameraGeometry(camera_name=camera_name,\n",
    "                              pix_x=pix_x,pix_y=pix_y,\n",
    "                              pix_id=table.column.Column(range(n_pix)),\n",
    "                              pix_area=np.pi*(radius*u.cm)**2,\n",
    "                              pix_type=\"hexagon\")\n",
    "    \n",
    "    pix_mid_module = module_central(geom_new)\n",
    "    assert pix_mid_module ==  [3, 10, 17, 24, 31, 38, 45, 52, 59, 66]\n",
    "\n",
    "    trigger_patches = nectar_trigger_patches(geom_new,\n",
    "                                             pix_mid_module)\n",
    "\n",
    "    assert trigger_patches == [[0, 1, 2, 3, 4, 5, 6, 7, 8, 9, 10, 12, 14, 15, 16, 17, 18, 21, 22, 24, \n",
    "                                25, 27,29, 31, 32, 33, 34, 37, 38, 39, 40, 41, 42, 44, 45, 47, 48], \n",
    "                               [1, 3, 4, 5, 6, 7, 8, 9, 10, 11, 12, 13, 14, 15, 17, 18, 20, 44, 45, \n",
    "                                46, 47, 48, 49, 51, 52, 54, 55, 56, 57, 58, 59, 61, 63, 64, 65, 66, 67], \n",
    "                               [2, 3, 4, 5, 6, 7, 9, 10, 12, 13, 14, 15, 16, 17, 18, 19, 20, 22, 24, 25, 26, 27, 63, 64, 65, 66, 68], \n",
    "                               [0, 2, 3, 5, 6, 14, 15, 16, 17, 19, 21, 22, 23, 24, 25, 26, 27, 30, 31, 32, 33, 34], \n",
    "                               [0, 1, 2, 3, 5, 21, 22, 23, 24, 25, 28, 29, 30, 31, 32, 33, 34, 35, 37, 38, 40, 41], \n",
    "                               [0, 1, 2, 3, 4, 28, 29, 31, 32, 34, 35, 36, 37, 38, 39, 40, 41, 42, 43, 44, 45, 47], \n",
    "                               [0, 1, 3, 4, 6, 7, 8, 9, 10, 11, 36, 38, 39, 40, 41, 42, 43, 44, 45, 46, 47, 48, 49, 50, 51, 52, 54], \n",
    "                               [7, 8, 10, 11, 13, 43, 45, 46, 47, 48, 49, 50, 51, 52, 53, 54, 55, 56, 57, 58, 59, 60], \n",
    "                               [8, 10, 11, 12, 13, 51, 52, 53, 54, 55, 56, 57, 58, 59, 60, 61, 62, 63, 64, 66, 67, 69], \n",
    "                               [9, 10, 11, 12, 13, 15, 17, 18, 19, 20, 56, 58, 59, 61, 62, 63, 64, 65, 66, 67, 68, 69]]\n"
   ]
  },
  {
   "cell_type": "code",
   "execution_count": 4,
   "id": "97e1d4c3-98f2-435a-b57c-569f9e52a61d",
   "metadata": {
    "execution": {
     "iopub.execute_input": "2023-06-21T07:54:45.242679Z",
     "iopub.status.busy": "2023-06-21T07:54:45.241856Z",
     "iopub.status.idle": "2023-06-21T07:54:45.254183Z",
     "shell.execute_reply": "2023-06-21T07:54:45.252178Z",
     "shell.execute_reply.started": "2023-06-21T07:54:45.242630Z"
    }
   },
   "outputs": [],
   "source": [
    "def test_trigger_patches_10modules_minus_3pixels_camera_ValueError():\n",
    "    import pytest\n",
    "    import numpy as np\n",
    "    from astropy import units as u\n",
    "    from astropy import table\n",
    "    from ctapipe_io_nectarcam import module_central,nectar_trigger_patches\n",
    "    from ctapipe.instrument.camera.geometry import CameraGeometry\n",
    "    \n",
    "    pixels,radius,camera_name = make_new_cameras(2,False)\n",
    "\n",
    "    n_pix = len(pixels)\n",
    "    pix_x=pixels[:,0]*u.cm\n",
    "    pix_y=pixels[:,1]*u.cm\n",
    "\n",
    "    geom_new = CameraGeometry(camera_name=camera_name,\n",
    "                              pix_x=pix_x,pix_y=pix_y,\n",
    "                              pix_id=table.column.Column(range(n_pix)),\n",
    "                              pix_area=np.pi*(radius*u.cm)**2,\n",
    "                              pix_type=\"hexagon\")\n",
    "    \n",
    "    with pytest.raises(Exception):\n",
    "        pix_mid_module = module_central(geom_new)"
   ]
  },
  {
   "cell_type": "code",
   "execution_count": 4,
   "id": "31f2c7b2-8c9f-4326-a9fe-54781591508d",
   "metadata": {
    "execution": {
     "iopub.execute_input": "2023-06-21T07:54:45.242679Z",
     "iopub.status.busy": "2023-06-21T07:54:45.241856Z",
     "iopub.status.idle": "2023-06-21T07:54:45.254183Z",
     "shell.execute_reply": "2023-06-21T07:54:45.252178Z",
     "shell.execute_reply.started": "2023-06-21T07:54:45.242630Z"
    }
   },
   "outputs": [],
   "source": [
    "def test_trigger_patches_10modules_minus_7_central_pixels_ValueError():\n",
    "    import pytest\n",
    "    import numpy as np\n",
    "    from astropy import units as u\n",
    "    from astropy import table\n",
    "    from ctapipe_io_nectarcam import module_central,nectar_trigger_patches\n",
    "    from ctapipe.instrument.camera.geometry import CameraGeometry\n",
    "    \n",
    "    pixels,radius,camera_name = make_new_cameras(3,False)\n",
    "\n",
    "    n_pix = len(pixels)\n",
    "    pix_x=pixels[:,0]*u.cm\n",
    "    pix_y=pixels[:,1]*u.cm\n",
    "\n",
    "    geom_new = CameraGeometry(camera_name=camera_name,\n",
    "                              pix_x=pix_x,pix_y=pix_y,\n",
    "                              pix_id=table.column.Column(range(n_pix)),\n",
    "                              pix_area=np.pi*(radius*u.cm)**2,\n",
    "                              pix_type=\"hexagon\")\n",
    "    \n",
    "    with pytest.raises(Exception):\n",
    "        pix_mid_module = module_central(geom_new)"
   ]
  },
  {
   "cell_type": "code",
   "execution_count": 4,
   "id": "b27ddb8c-227b-4adc-be61-557581224db8",
   "metadata": {
    "execution": {
     "iopub.execute_input": "2023-06-21T07:54:45.242679Z",
     "iopub.status.busy": "2023-06-21T07:54:45.241856Z",
     "iopub.status.idle": "2023-06-21T07:54:45.254183Z",
     "shell.execute_reply": "2023-06-21T07:54:45.252178Z",
     "shell.execute_reply.started": "2023-06-21T07:54:45.242630Z"
    }
   },
   "outputs": [],
   "source": [
    "def test_trigger_patches_10modules_minus_7_edge_pixels_ValueError():\n",
    "    import pytest\n",
    "    import numpy as np\n",
    "    from astropy import units as u\n",
    "    from astropy import table\n",
    "    from ctapipe_io_nectarcam import module_central,nectar_trigger_patches\n",
    "    from ctapipe.instrument.camera.geometry import CameraGeometry\n",
    "    \n",
    "    pixels,radius,camera_name = make_new_cameras(4,False)\n",
    "\n",
    "    n_pix = len(pixels)\n",
    "    pix_x=pixels[:,0]*u.cm\n",
    "    pix_y=pixels[:,1]*u.cm\n",
    "\n",
    "    geom_new = CameraGeometry(camera_name=camera_name,\n",
    "                              pix_x=pix_x,pix_y=pix_y,\n",
    "                              pix_id=table.column.Column(range(n_pix)),\n",
    "                              pix_area=np.pi*(radius*u.cm)**2,\n",
    "                              pix_type=\"hexagon\")\n",
    "    \n",
    "    with pytest.raises(Exception):\n",
    "        pix_mid_module = module_central(geom_new)"
   ]
  },
  {
   "cell_type": "code",
   "execution_count": 5,
   "id": "705dd829-8f31-4818-b134-c08054d9fb22",
   "metadata": {
    "execution": {
     "iopub.execute_input": "2023-06-21T07:54:45.257456Z",
     "iopub.status.busy": "2023-06-21T07:54:45.256014Z",
     "iopub.status.idle": "2023-06-21T07:54:45.264792Z",
     "shell.execute_reply": "2023-06-21T07:54:45.263013Z",
     "shell.execute_reply.started": "2023-06-21T07:54:45.257341Z"
    }
   },
   "outputs": [],
   "source": [
    "# Below for testing by hand"
   ]
  },
  {
   "cell_type": "code",
   "execution_count": 72,
   "id": "f4a3f0e5-2412-4b7f-9d56-164884a3f922",
   "metadata": {
    "execution": {
     "iopub.execute_input": "2023-06-21T08:43:15.095418Z",
     "iopub.status.busy": "2023-06-21T08:43:15.094599Z",
     "iopub.status.idle": "2023-06-21T08:43:15.820249Z",
     "shell.execute_reply": "2023-06-21T08:43:15.819615Z",
     "shell.execute_reply.started": "2023-06-21T08:43:15.095355Z"
    }
   },
   "outputs": [
    {
     "name": "stdout",
     "output_type": "stream",
     "text": [
      "0.9523128068639574 cm\n",
      "Central Pixels: [3, 10, 17, 24, 31, 38, 45, 52, 59, 66]\n",
      "10 70\n",
      "[ 3 10 17 24 31 38 45 52 59 66]\n"
     ]
    },
    {
     "data": {
      "image/png": "[encoded data removed]",
      "text/plain": [
       "<Figure size 640x480 with 1 Axes>"
      ]
     },
     "metadata": {},
     "output_type": "display_data"
    },
    {
     "name": "stdout",
     "output_type": "stream",
     "text": [
      "Trigger patches: [[0, 1, 2, 3, 4, 5, 6, 7, 8, 9, 10, 12, 14, 15, 16, 17, 18, 21, 22, 24, 25, 27, 29, 31, 32, 33, 34, 37, 38, 39, 40, 41, 42, 44, 45, 47, 48], [1, 3, 4, 5, 6, 7, 8, 9, 10, 11, 12, 13, 14, 15, 17, 18, 20, 44, 45, 46, 47, 48, 49, 51, 52, 54, 55, 56, 57, 58, 59, 61, 63, 64, 65, 66, 67], [2, 3, 4, 5, 6, 7, 9, 10, 12, 13, 14, 15, 16, 17, 18, 19, 20, 22, 24, 25, 26, 27, 63, 64, 65, 66, 68], [0, 2, 3, 5, 6, 14, 15, 16, 17, 19, 21, 22, 23, 24, 25, 26, 27, 30, 31, 32, 33, 34], [0, 1, 2, 3, 5, 21, 22, 23, 24, 25, 28, 29, 30, 31, 32, 33, 34, 35, 37, 38, 40, 41], [0, 1, 2, 3, 4, 28, 29, 31, 32, 34, 35, 36, 37, 38, 39, 40, 41, 42, 43, 44, 45, 47], [0, 1, 3, 4, 6, 7, 8, 9, 10, 11, 36, 38, 39, 40, 41, 42, 43, 44, 45, 46, 47, 48, 49, 50, 51, 52, 54], [7, 8, 10, 11, 13, 43, 45, 46, 47, 48, 49, 50, 51, 52, 53, 54, 55, 56, 57, 58, 59, 60], [8, 10, 11, 12, 13, 51, 52, 53, 54, 55, 56, 57, 58, 59, 60, 61, 62, 63, 64, 66, 67, 69], [9, 10, 11, 12, 13, 15, 17, 18, 19, 20, 56, 58, 59, 61, 62, 63, 64, 65, 66, 67, 68, 69]]\n",
      "Pixels in patches: 37, 37, 27, 22, 22, 22, 27, 22, 22, 22, \n"
     ]
    },
    {
     "data": {
      "image/png": "[encoded data removed]",
      "text/plain": [
       "<Figure size 640x480 with 1 Axes>"
      ]
     },
     "metadata": {},
     "output_type": "display_data"
    }
   ],
   "source": [
    "if __name__ == \"__main__\":\n",
    "    import numpy as np\n",
    "    from matplotlib import pyplot as plt\n",
    "    from astropy import units as u\n",
    "    from astropy import table\n",
    "\n",
    "    # Load my functions for test (these are in __init__.py)\n",
    "    from ctapipe_io_nectarcam import module_central,nectar_trigger_patches\n",
    "    #from ctapipe_io_nectarcam import load_camera_geometry\n",
    "    #geom = load_camera_geometry()\n",
    "\n",
    "    new_camera_type = 0\n",
    "    new_camera_type = 1\n",
    "    \n",
    "    pixels,radius,new_camera_name = make_new_cameras(new_camera_type,False)\n",
    "\n",
    "\n",
    "    n_pix = len(pixels)\n",
    "    pix_x=pixels[:,0]*u.cm\n",
    "    pix_y=pixels[:,1]*u.cm\n",
    "    \n",
    "    from ctapipe.instrument.camera.geometry import CameraGeometry\n",
    "    \n",
    "    geom_new = CameraGeometry(camera_name=new_camera_name,\n",
    "                              pix_x=pix_x,pix_y=pix_y,\n",
    "                              pix_id=table.column.Column(range(n_pix)),\n",
    "                              pix_area=np.pi*(radius*u.cm)**2,\n",
    "                              pix_type=\"hexagon\")\n",
    "    \n",
    "    from ctapipe.visualization import CameraDisplay\n",
    "    \n",
    "    print(geom_new.pixel_width)\n",
    "    \n",
    "    # In future, shouldn't need to do this.\n",
    "    geom_new.pixel_width = np.array([radius]*n_pix)*u.cm    \n",
    "    CameraDisplay(geom_new)\n",
    "    \n",
    "    \n",
    "    pix_mid_module = module_central(geom_new)\n",
    "    print(\"Central Pixels:\",pix_mid_module)\n",
    "    print(len(pix_mid_module),len(pix_mid_module)*7)\n",
    "    \n",
    "    print(np.array(pix_mid_module))\n",
    "    \n",
    "    disp = CameraDisplay(geom_new)\n",
    "    im = np.zeros(geom_new.n_pixels)\n",
    "    \n",
    "    disp.highlight_pixels(pix_mid_module, linewidth=2, color=\"xkcd:red\")\n",
    "    im[pix_mid_module] = 1\n",
    "    disp.image = im\n",
    "    #disp.add_colorbar()\n",
    "    plt.show()\n",
    "\n",
    "    trigger_patches = nectar_trigger_patches(geom_new,\n",
    "                                             pix_mid_module)\n",
    "    print(\"Trigger patches:\",trigger_patches)\n",
    "    print(\"Pixels in patches:\",end=\" \")\n",
    "    for patch in trigger_patches:\n",
    "        print(len(patch),end=\", \")\n",
    "    print()\n",
    "    disp = CameraDisplay(geom_new)\n",
    "    im = np.zeros(geom_new.n_pixels)\n",
    "    im[trigger_patches[1]] = 2\n",
    "    disp.image = im\n",
    "    disp.highlight_pixels(pix_mid_module, linewidth=2, color=\"xkcd:red\")\n",
    "    #disp.add_colorbar()\n",
    "    plt.show()"
   ]
  },
  {
   "cell_type": "code",
   "execution_count": 73,
   "id": "4a736742-130c-4c66-806b-a7e50bd58cad",
   "metadata": {
    "execution": {
     "iopub.execute_input": "2023-06-21T08:43:21.020004Z",
     "iopub.status.busy": "2023-06-21T08:43:21.019227Z",
     "iopub.status.idle": "2023-06-21T08:43:21.029908Z",
     "shell.execute_reply": "2023-06-21T08:43:21.028772Z",
     "shell.execute_reply.started": "2023-06-21T08:43:21.019940Z"
    }
   },
   "outputs": [
    {
     "data": {
      "text/plain": [
       "array([[False,  True,  True, ..., False, False, False],\n",
       "       [ True, False, False, ..., False, False, False],\n",
       "       [ True, False, False, ..., False, False, False],\n",
       "       ...,\n",
       "       [False, False, False, ..., False, False,  True],\n",
       "       [False, False, False, ..., False, False,  True],\n",
       "       [False, False, False, ...,  True,  True, False]])"
      ]
     },
     "execution_count": 73,
     "metadata": {},
     "output_type": "execute_result"
    }
   ],
   "source": [
    "geom_new.neighbor_matrix"
   ]
  },
  {
   "cell_type": "code",
   "execution_count": 74,
   "id": "f0d02910-1194-42e4-84a8-0d03d8075722",
   "metadata": {
    "execution": {
     "iopub.execute_input": "2023-06-21T08:43:23.136533Z",
     "iopub.status.busy": "2023-06-21T08:43:23.135659Z",
     "iopub.status.idle": "2023-06-21T08:43:23.149100Z",
     "shell.execute_reply": "2023-06-21T08:43:23.145532Z",
     "shell.execute_reply.started": "2023-06-21T08:43:23.136456Z"
    }
   },
   "outputs": [],
   "source": [
    "from scipy.sparse import csr_matrix, lil_matrix"
   ]
  },
  {
   "cell_type": "code",
   "execution_count": 75,
   "id": "aac57155-4b12-49a7-bc37-75ec15c70ebb",
   "metadata": {
    "execution": {
     "iopub.execute_input": "2023-06-21T08:43:24.318446Z",
     "iopub.status.busy": "2023-06-21T08:43:24.317092Z",
     "iopub.status.idle": "2023-06-21T08:43:24.340221Z",
     "shell.execute_reply": "2023-06-21T08:43:24.339036Z",
     "shell.execute_reply.started": "2023-06-21T08:43:24.318381Z"
    }
   },
   "outputs": [
    {
     "data": {
      "text/plain": [
       "[[1, 2, 3, 32, 40, 41],\n",
       " [0, 3, 4, 41, 44, 47],\n",
       " [0, 3, 5, 22, 32, 34],\n",
       " [0, 1, 2, 4, 5, 6],\n",
       " [1, 3, 6, 7, 9, 47],\n",
       " [2, 3, 6, 14, 22, 25],\n",
       " [3, 4, 5, 9, 14, 15],\n",
       " [4, 8, 9, 10, 47, 48],\n",
       " [7, 10, 11, 48, 51, 54],\n",
       " [4, 6, 7, 10, 12, 15],\n",
       " [7, 8, 9, 11, 12, 13],\n",
       " [8, 10, 13, 54, 56, 58],\n",
       " [9, 10, 13, 15, 18, 63],\n",
       " [10, 11, 12, 58, 63, 64],\n",
       " [5, 6, 15, 16, 17, 25],\n",
       " [6, 9, 12, 14, 17, 18],\n",
       " [14, 17, 19, 25, 27],\n",
       " [14, 15, 16, 18, 19, 20],\n",
       " [12, 15, 17, 20, 63, 65],\n",
       " [16, 17, 20],\n",
       " [17, 18, 19, 65],\n",
       " [22, 23, 24, 33, 34],\n",
       " [2, 5, 21, 24, 25, 34],\n",
       " [21, 24, 26],\n",
       " [21, 22, 23, 25, 26, 27],\n",
       " [5, 14, 16, 22, 24, 27],\n",
       " [23, 24, 27],\n",
       " [16, 24, 25, 26],\n",
       " [29, 30, 31],\n",
       " [28, 31, 32, 37, 40],\n",
       " [28, 31, 33],\n",
       " [28, 29, 30, 32, 33, 34],\n",
       " [0, 2, 29, 31, 34, 40],\n",
       " [21, 30, 31, 34],\n",
       " [2, 21, 22, 31, 32, 33],\n",
       " [36, 37, 38],\n",
       " [35, 38, 39],\n",
       " [29, 35, 38, 40],\n",
       " [35, 36, 37, 39, 40, 41],\n",
       " [36, 38, 41, 42, 44],\n",
       " [0, 29, 32, 37, 38, 41],\n",
       " [0, 1, 38, 39, 40, 44],\n",
       " [39, 43, 44, 45],\n",
       " [42, 45, 46],\n",
       " [1, 39, 41, 42, 45, 47],\n",
       " [42, 43, 44, 46, 47, 48],\n",
       " [43, 45, 48, 49, 51],\n",
       " [1, 4, 7, 44, 45, 48],\n",
       " [7, 8, 45, 46, 47, 51],\n",
       " [46, 50, 51, 52],\n",
       " [49, 52, 53],\n",
       " [8, 46, 48, 49, 52, 54],\n",
       " [49, 50, 51, 53, 54, 55],\n",
       " [50, 52, 55],\n",
       " [8, 11, 51, 52, 55, 56],\n",
       " [52, 53, 54, 56, 57],\n",
       " [11, 54, 55, 57, 58, 59],\n",
       " [55, 56, 59, 60],\n",
       " [11, 13, 56, 59, 61, 64],\n",
       " [56, 57, 58, 60, 61, 62],\n",
       " [57, 59, 62],\n",
       " [58, 59, 62, 64, 67],\n",
       " [59, 60, 61],\n",
       " [12, 13, 18, 64, 65, 66],\n",
       " [13, 58, 61, 63, 66, 67],\n",
       " [18, 20, 63, 66, 68],\n",
       " [63, 64, 65, 67, 68, 69],\n",
       " [61, 64, 66, 69],\n",
       " [65, 66, 69],\n",
       " [66, 67, 68]]"
      ]
     },
     "execution_count": 75,
     "metadata": {},
     "output_type": "execute_result"
    }
   ],
   "source": [
    "geom_new.neighbors"
   ]
  },
  {
   "cell_type": "code",
   "execution_count": 76,
   "id": "1e38ff50-7c2e-4d28-92a9-e3d54b1ca90c",
   "metadata": {
    "execution": {
     "iopub.execute_input": "2023-06-21T08:43:28.329833Z",
     "iopub.status.busy": "2023-06-21T08:43:28.328946Z",
     "iopub.status.idle": "2023-06-21T08:43:28.343280Z",
     "shell.execute_reply": "2023-06-21T08:43:28.341422Z",
     "shell.execute_reply.started": "2023-06-21T08:43:28.329755Z"
    }
   },
   "outputs": [
    {
     "data": {
      "text/plain": [
       "list"
      ]
     },
     "execution_count": 76,
     "metadata": {},
     "output_type": "execute_result"
    }
   ],
   "source": [
    "type(geom_new.neighbors)"
   ]
  },
  {
   "cell_type": "code",
   "execution_count": 77,
   "id": "8358e179-cdf9-4861-bff3-61ec2a11c01f",
   "metadata": {
    "execution": {
     "iopub.execute_input": "2023-06-21T08:43:31.903485Z",
     "iopub.status.busy": "2023-06-21T08:43:31.902905Z",
     "iopub.status.idle": "2023-06-21T08:43:31.916267Z",
     "shell.execute_reply": "2023-06-21T08:43:31.915345Z",
     "shell.execute_reply.started": "2023-06-21T08:43:31.903435Z"
    }
   },
   "outputs": [],
   "source": [
    "pix_mid_module = module_central(geom_new)\n",
    "patches = nectar_trigger_patches(geom_new,pix_mid_module)\n",
    "lil = lil_matrix((geom_new.n_pixels, geom_new.n_pixels), dtype=bool)\n",
    "for pix_id, patches in enumerate(patches):\n",
    "    lil[pix_id, patches] = True\n",
    "nb = lil.tocsr()\n"
   ]
  },
  {
   "cell_type": "code",
   "execution_count": 78,
   "id": "10629398-ee98-4658-8f0e-d8fb0d10f428",
   "metadata": {
    "execution": {
     "iopub.execute_input": "2023-06-21T08:43:44.004480Z",
     "iopub.status.busy": "2023-06-21T08:43:44.003575Z",
     "iopub.status.idle": "2023-06-21T08:43:44.020161Z",
     "shell.execute_reply": "2023-06-21T08:43:44.018229Z",
     "shell.execute_reply.started": "2023-06-21T08:43:44.004402Z"
    }
   },
   "outputs": [
    {
     "data": {
      "text/plain": [
       "<70x70 sparse matrix of type '<class 'numpy.bool_'>'\n",
       "\twith 260 stored elements in Compressed Sparse Row format>"
      ]
     },
     "execution_count": 78,
     "metadata": {},
     "output_type": "execute_result"
    }
   ],
   "source": [
    "nb"
   ]
  },
  {
   "cell_type": "code",
   "execution_count": 64,
   "id": "e8a7390c-0a9c-496b-acc5-0521557db2a0",
   "metadata": {
    "execution": {
     "iopub.execute_input": "2023-06-21T08:39:46.761517Z",
     "iopub.status.busy": "2023-06-21T08:39:46.760528Z",
     "iopub.status.idle": "2023-06-21T08:39:46.775956Z",
     "shell.execute_reply": "2023-06-21T08:39:46.774205Z",
     "shell.execute_reply.started": "2023-06-21T08:39:46.761423Z"
    }
   },
   "outputs": [
    {
     "data": {
      "text/plain": [
       "<63x63 sparse matrix of type '<class 'numpy.bool_'>'\n",
       "\twith 318 stored elements in Compressed Sparse Row format>"
      ]
     },
     "execution_count": 64,
     "metadata": {},
     "output_type": "execute_result"
    }
   ],
   "source": [
    "nb"
   ]
  },
  {
   "cell_type": "code",
   "execution_count": 67,
   "id": "6884901d-9e65-48b5-86b8-e1c8d08da1df",
   "metadata": {
    "execution": {
     "iopub.execute_input": "2023-06-21T08:40:15.866672Z",
     "iopub.status.busy": "2023-06-21T08:40:15.865847Z",
     "iopub.status.idle": "2023-06-21T08:40:15.876518Z",
     "shell.execute_reply": "2023-06-21T08:40:15.875556Z",
     "shell.execute_reply.started": "2023-06-21T08:40:15.866598Z"
    }
   },
   "outputs": [
    {
     "data": {
      "text/plain": [
       "(63, 63)"
      ]
     },
     "execution_count": 67,
     "metadata": {},
     "output_type": "execute_result"
    }
   ],
   "source": [
    "nb.shape"
   ]
  },
  {
   "cell_type": "code",
   "execution_count": 79,
   "id": "d2d182f9-6adc-44ed-a81a-5134516a2827",
   "metadata": {
    "execution": {
     "iopub.execute_input": "2023-06-21T08:45:49.309558Z",
     "iopub.status.busy": "2023-06-21T08:45:49.308970Z",
     "iopub.status.idle": "2023-06-21T08:45:49.322413Z",
     "shell.execute_reply": "2023-06-21T08:45:49.320640Z",
     "shell.execute_reply.started": "2023-06-21T08:45:49.309506Z"
    }
   },
   "outputs": [
    {
     "data": {
      "text/plain": [
       "array([[False,  True,  True, ..., False, False, False],\n",
       "       [ True, False, False, ..., False, False, False],\n",
       "       [ True, False, False, ..., False, False, False],\n",
       "       ...,\n",
       "       [False, False, False, ..., False, False,  True],\n",
       "       [False, False, False, ..., False, False,  True],\n",
       "       [False, False, False, ...,  True,  True, False]])"
      ]
     },
     "execution_count": 79,
     "metadata": {},
     "output_type": "execute_result"
    }
   ],
   "source": [
    "geom_new.neighbor_matrix"
   ]
  },
  {
   "cell_type": "code",
   "execution_count": 80,
   "id": "dc2dffbe-e2ef-4882-afb2-3524c720b1cf",
   "metadata": {
    "execution": {
     "iopub.execute_input": "2023-06-21T08:46:13.103978Z",
     "iopub.status.busy": "2023-06-21T08:46:13.102950Z",
     "iopub.status.idle": "2023-06-21T08:46:13.119795Z",
     "shell.execute_reply": "2023-06-21T08:46:13.117859Z",
     "shell.execute_reply.started": "2023-06-21T08:46:13.103897Z"
    }
   },
   "outputs": [
    {
     "data": {
      "text/plain": [
       "<70x70 sparse matrix of type '<class 'numpy.bool_'>'\n",
       "\twith 260 stored elements in Compressed Sparse Row format>"
      ]
     },
     "execution_count": 80,
     "metadata": {},
     "output_type": "execute_result"
    }
   ],
   "source": [
    "nb"
   ]
  },
  {
   "cell_type": "code",
   "execution_count": 91,
   "id": "83f80dbb-38df-4592-bc92-49dfea07b9d6",
   "metadata": {
    "execution": {
     "iopub.execute_input": "2023-06-21T08:48:50.757790Z",
     "iopub.status.busy": "2023-06-21T08:48:50.755661Z",
     "iopub.status.idle": "2023-06-21T08:48:50.769545Z",
     "shell.execute_reply": "2023-06-21T08:48:50.767758Z",
     "shell.execute_reply.started": "2023-06-21T08:48:50.757685Z"
    }
   },
   "outputs": [
    {
     "data": {
      "text/plain": [
       "<70x70 sparse matrix of type '<class 'numpy.object_'>'\n",
       "\twith 260 stored elements in Compressed Sparse Row format>"
      ]
     },
     "execution_count": 91,
     "metadata": {},
     "output_type": "execute_result"
    }
   ],
   "source": [
    "p = nb.astype(list)\n",
    "p"
   ]
  },
  {
   "cell_type": "code",
   "execution_count": 92,
   "id": "7465398a-bc04-4c88-9bdf-dacb0de98967",
   "metadata": {
    "execution": {
     "iopub.execute_input": "2023-06-21T08:49:14.488237Z",
     "iopub.status.busy": "2023-06-21T08:49:14.487303Z",
     "iopub.status.idle": "2023-06-21T08:49:14.497278Z",
     "shell.execute_reply": "2023-06-21T08:49:14.496072Z",
     "shell.execute_reply.started": "2023-06-21T08:49:14.488190Z"
    }
   },
   "outputs": [
    {
     "data": {
      "text/plain": [
       "array([[ True,  True,  True, ..., False, False, False],\n",
       "       [False,  True, False, ...,  True, False, False],\n",
       "       [False, False,  True, ..., False,  True, False],\n",
       "       ...,\n",
       "       [False, False, False, ..., False, False, False],\n",
       "       [False, False, False, ..., False, False, False],\n",
       "       [False, False, False, ..., False, False, False]])"
      ]
     },
     "execution_count": 92,
     "metadata": {},
     "output_type": "execute_result"
    }
   ],
   "source": [
    "nb.toarray()"
   ]
  },
  {
   "cell_type": "code",
   "execution_count": null,
   "id": "2e14f529-d315-4dcf-9236-2b236d451281",
   "metadata": {},
   "outputs": [],
   "source": []
  }
 ],
 "metadata": {
  "kernelspec": {
   "display_name": "Python 3 (ipykernel)",
   "language": "python",
   "name": "python3"
  },
  "language_info": {
   "codemirror_mode": {
    "name": "ipython",
    "version": 3
   },
   "file_extension": ".py",
   "mimetype": "text/x-python",
   "name": "python",
   "nbconvert_exporter": "python",
   "pygments_lexer": "ipython3",
   "version": "3.8.17"
  }
 },
 "nbformat": 4,
 "nbformat_minor": 5
}
